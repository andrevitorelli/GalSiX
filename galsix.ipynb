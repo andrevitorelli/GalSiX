{
 "cells": [
  {
   "cell_type": "markdown",
   "id": "scientific-print",
   "metadata": {},
   "source": [
    "# GalSiX - GalSim eXplorer"
   ]
  },
  {
   "cell_type": "markdown",
   "id": "underlying-bacteria",
   "metadata": {},
   "source": [
    "This is a simple notebook to explore visually the different shapes created by galaxy profiles and PSFs, and their convolutions. "
   ]
  },
  {
   "cell_type": "code",
   "execution_count": 1,
   "id": "wired-knock",
   "metadata": {},
   "outputs": [],
   "source": [
    "import sys\n",
    "import os\n",
    "import numpy as np\n",
    "import logging\n",
    "import galsim\n",
    "from matplotlib import pyplot as plt\n",
    "\n",
    "from ipywidgets import interact, interactive, fixed, interact_manual\n",
    "import ipywidgets as widgets"
   ]
  },
  {
   "cell_type": "markdown",
   "id": "missing-annex",
   "metadata": {},
   "source": [
    "## Simple Galaxy"
   ]
  },
  {
   "cell_type": "markdown",
   "id": "advanced-coordinate",
   "metadata": {},
   "source": [
    "Draw a simple galaxy and test it"
   ]
  },
  {
   "cell_type": "code",
   "execution_count": 2,
   "id": "typical-sherman",
   "metadata": {},
   "outputs": [],
   "source": [
    "def SimpleGalaxy(gal_flux =  1e5,    # counts\n",
    "                 gal_r0 = 0.5,       # arcsec\n",
    "                 pixel_scale = 0.2,  # arcsec / pixel\n",
    "                 stamp_size = 50):   # pixels\n",
    "    gal = galsim.Exponential(flux=gal_flux, scale_radius=gal_r0)\n",
    "    gal_image = gal.drawImage(nx=stamp_size,ny=stamp_size, scale=pixel_scale, method='no_pixel').array\n",
    "    plt.imshow(gal_image)\n",
    "    plt.colorbar()"
   ]
  },
  {
   "cell_type": "code",
   "execution_count": 3,
   "id": "everyday-macintosh",
   "metadata": {},
   "outputs": [
    {
     "data": {
      "application/vnd.jupyter.widget-view+json": {
       "model_id": "117800c363534b428a980d9b6b95f833",
       "version_major": 2,
       "version_minor": 0
      },
      "text/plain": [
       "interactive(children=(FloatSlider(value=100000.0, description='gal_flux', max=10000000.0), FloatSlider(value=0…"
      ]
     },
     "metadata": {},
     "output_type": "display_data"
    },
    {
     "data": {
      "text/plain": [
       "<function __main__.SimpleGalaxy(gal_flux=100000.0, gal_r0=0.5, pixel_scale=0.2, stamp_size=50)>"
      ]
     },
     "execution_count": 3,
     "metadata": {},
     "output_type": "execute_result"
    }
   ],
   "source": [
    "interact(SimpleGalaxy,gal_flux =(0, 1e7),    \n",
    "                      gal_r0 = (0.1,10),       \n",
    "                      pixel_scale = (0.1,5),  \n",
    "                      stamp_size = (10,100) )"
   ]
  },
  {
   "cell_type": "markdown",
   "id": "nutritional-honolulu",
   "metadata": {},
   "source": [
    "## Simple galaxy with Shear"
   ]
  },
  {
   "cell_type": "code",
   "execution_count": 4,
   "id": "systematic-simulation",
   "metadata": {},
   "outputs": [],
   "source": [
    "def SimpleGalaxyShear(gal_flux =  1e6,    # counts\n",
    "                 gal_r0 = 1.0,       # arcsec\n",
    "                 g1=0,g2=0,\n",
    "                 pixel_scale = 0.2,  # arcsec / pixel\n",
    "                 stamp_size = 50):   # pixels\n",
    "    gal = galsim.Exponential(flux=gal_flux, scale_radius=gal_r0)\n",
    "    gal = gal.shear(g1=g1, g2=g2)\n",
    "    gal_image = gal.drawImage(nx=stamp_size,ny=stamp_size, scale=pixel_scale, method='no_pixel').array\n",
    "    plt.imshow(gal_image)\n",
    "    plt.colorbar()"
   ]
  },
  {
   "cell_type": "code",
   "execution_count": 5,
   "id": "ahead-massage",
   "metadata": {},
   "outputs": [
    {
     "data": {
      "application/vnd.jupyter.widget-view+json": {
       "model_id": "3f8ff77baa434893bf7c263173c7045e",
       "version_major": 2,
       "version_minor": 0
      },
      "text/plain": [
       "interactive(children=(FloatSlider(value=1000000.0, description='gal_flux', max=10000000.0), FloatSlider(value=…"
      ]
     },
     "metadata": {},
     "output_type": "display_data"
    },
    {
     "data": {
      "text/plain": [
       "<function __main__.SimpleGalaxyShear(gal_flux=1000000.0, gal_r0=1.0, g1=0, g2=0, pixel_scale=0.2, stamp_size=50)>"
      ]
     },
     "execution_count": 5,
     "metadata": {},
     "output_type": "execute_result"
    }
   ],
   "source": [
    "interact(SimpleGalaxyShear,gal_flux =(0, 1e7),    \n",
    "                      gal_r0 = (0.1,10),\n",
    "                      g1=(-0.9,.9,0.01),g2=(-0.9,0.9,0.01),\n",
    "                      pixel_scale = (0.1,5),  \n",
    "                      stamp_size = (10,100))"
   ]
  },
  {
   "cell_type": "markdown",
   "id": "useful-chicago",
   "metadata": {},
   "source": [
    "## Noisy Images (w/o PSF)"
   ]
  },
  {
   "cell_type": "markdown",
   "id": "chicken-placement",
   "metadata": {},
   "source": [
    "Simple gaussian noise with defined S/R"
   ]
  },
  {
   "cell_type": "code",
   "execution_count": 6,
   "id": "interstate-ordinance",
   "metadata": {},
   "outputs": [],
   "source": [
    "def SimpleGalaxyShearNoise(gal_flux =  1e6,    # counts\n",
    "                 gal_r0 = 1.0,       # arcsec\n",
    "                 g1=0,g2=0,\n",
    "                 pixel_scale = 0.2,  # arcsec / pixel\n",
    "                 stamp_size = 50,   # pixels\n",
    "                 snr = 80):\n",
    "    gal = galsim.Exponential(flux=gal_flux, scale_radius=gal_r0)\n",
    "    gal = gal.shear(g1=g1, g2=g2)\n",
    "    gal_image = gal.drawImage(nx=stamp_size,ny=stamp_size, scale=pixel_scale, method='no_pixel')\n",
    "    plt.figure(figsize = (10,5))\n",
    "    plt.subplot(121)\n",
    "    plt.imshow(gal_image.array)\n",
    "    plt.colorbar()\n",
    "    plt.subplot(122)\n",
    "    noise = galsim.GaussianNoise()\n",
    "    gal_image.addNoiseSNR(noise,snr=snr)\n",
    "    plt.imshow(gal_image.array)\n",
    "    plt.colorbar()"
   ]
  },
  {
   "cell_type": "code",
   "execution_count": 7,
   "id": "delayed-earth",
   "metadata": {},
   "outputs": [
    {
     "data": {
      "application/vnd.jupyter.widget-view+json": {
       "model_id": "46abc43831cc43c68e6e953bba146502",
       "version_major": 2,
       "version_minor": 0
      },
      "text/plain": [
       "interactive(children=(FloatSlider(value=1000000.0, description='gal_flux', max=10000000.0), FloatSlider(value=…"
      ]
     },
     "metadata": {},
     "output_type": "display_data"
    },
    {
     "data": {
      "text/plain": [
       "<function __main__.SimpleGalaxyShearNoise(gal_flux=1000000.0, gal_r0=1.0, g1=0, g2=0, pixel_scale=0.2, stamp_size=50, snr=80)>"
      ]
     },
     "execution_count": 7,
     "metadata": {},
     "output_type": "execute_result"
    }
   ],
   "source": [
    "interact(SimpleGalaxyShearNoise,gal_flux =(0, 1e7),    \n",
    "                      gal_r0 = (0.1,10),\n",
    "                      g1=(-0.9,.9,0.01),g2=(-0.9,0.9,0.01),\n",
    "                      pixel_scale = (0.1,5),  \n",
    "                      stamp_size = (10,100),\n",
    "                      snr=(1,1000))"
   ]
  },
  {
   "cell_type": "markdown",
   "id": "southwest-chemical",
   "metadata": {},
   "source": [
    "## Simple PSF"
   ]
  },
  {
   "cell_type": "markdown",
   "id": "cleared-grace",
   "metadata": {},
   "source": [
    "### Moffat PSF"
   ]
  },
  {
   "cell_type": "code",
   "execution_count": 8,
   "id": "refined-association",
   "metadata": {},
   "outputs": [],
   "source": [
    "def MoffatPSF(beta =  5,    \n",
    "              half_light_radius = 1,       # arcsec\n",
    "              pixel_scale = 0.2,  # arcsec / pixel\n",
    "              stamp_size = 50):   # pixels\n",
    "    psf = galsim.Moffat(beta=beta, half_light_radius=half_light_radius)\n",
    "    psf_image = psf.drawImage(nx=stamp_size,ny=stamp_size, scale=pixel_scale, method='no_pixel').array\n",
    "    plt.imshow(psf_image)\n",
    "    plt.colorbar()"
   ]
  },
  {
   "cell_type": "code",
   "execution_count": 9,
   "id": "radio-pollution",
   "metadata": {},
   "outputs": [
    {
     "data": {
      "application/vnd.jupyter.widget-view+json": {
       "model_id": "06388475e237450281864ac41c6ff797",
       "version_major": 2,
       "version_minor": 0
      },
      "text/plain": [
       "interactive(children=(FloatSlider(value=5.0, description='beta', max=10.0, min=1.11), IntSlider(value=1, descr…"
      ]
     },
     "metadata": {},
     "output_type": "display_data"
    },
    {
     "data": {
      "text/plain": [
       "<function __main__.MoffatPSF(beta=5, half_light_radius=1, pixel_scale=0.2, stamp_size=50)>"
      ]
     },
     "execution_count": 9,
     "metadata": {},
     "output_type": "execute_result"
    }
   ],
   "source": [
    "interact(MoffatPSF,beta =  (1.11,10),    \n",
    "              half_light_radius = (1,10),       # arcsec\n",
    "              pixel_scale = (0.2),  # arcsec / pixel\n",
    "              stamp_size = (10,100))"
   ]
  },
  {
   "cell_type": "markdown",
   "id": "dense-presentation",
   "metadata": {},
   "source": [
    "### Airy PSF"
   ]
  },
  {
   "cell_type": "code",
   "execution_count": 10,
   "id": "annoying-stupid",
   "metadata": {},
   "outputs": [],
   "source": [
    "def AiryPSF(telescope_diameter = 0.02,# metres\n",
    "            wavelength = 650,         # nm\n",
    "            obscuration = 0.8,         # fraction\n",
    "            pixel_scale = 0.6,        # arcsec/pixel\n",
    "            stamp_size = 100):         # pixels\n",
    "   \n",
    "    psf = galsim.Airy( lam=wavelength, diam=telescope_diameter,obscuration=obscuration)\n",
    "    psf_image = psf.drawImage(nx=stamp_size,ny=stamp_size, scale=pixel_scale, method='no_pixel').array\n",
    "    plt.imshow(psf_image)\n",
    "    plt.colorbar()"
   ]
  },
  {
   "cell_type": "code",
   "execution_count": 11,
   "id": "recorded-night",
   "metadata": {},
   "outputs": [
    {
     "data": {
      "application/vnd.jupyter.widget-view+json": {
       "model_id": "8d43408de781469b82ee90c03f6bde38",
       "version_major": 2,
       "version_minor": 0
      },
      "text/plain": [
       "interactive(children=(FloatSlider(value=0.02, description='telescope_diameter', max=4.0, min=0.02, step=0.01),…"
      ]
     },
     "metadata": {},
     "output_type": "display_data"
    },
    {
     "data": {
      "text/plain": [
       "<function __main__.AiryPSF(telescope_diameter=0.02, wavelength=650, obscuration=0.8, pixel_scale=0.6, stamp_size=100)>"
      ]
     },
     "execution_count": 11,
     "metadata": {},
     "output_type": "execute_result"
    }
   ],
   "source": [
    "interact(AiryPSF,telescope_diameter = (0.02,4,0.01),# metres\n",
    "            wavelength = (380,3000),         # nm\n",
    "            obscuration = (0.,1),         # fraction\n",
    "            pixel_scale = (0.1,10,0.01),        # arcsec/pixel\n",
    "            stamp_size = (10,100))"
   ]
  },
  {
   "cell_type": "markdown",
   "id": "amino-broadcast",
   "metadata": {},
   "source": [
    "## PSF Convolution"
   ]
  },
  {
   "cell_type": "code",
   "execution_count": 12,
   "id": "greatest-sleeping",
   "metadata": {},
   "outputs": [],
   "source": [
    "def SimpleGalaxyRoundPSF(gal_flux =  1e6,    # counts\n",
    "                 gal_r0 = 1.0,       # arcsec\n",
    "                 g1=0,g2=0,\n",
    "                 pixel_scale = 0.2,  # arcsec / pixel\n",
    "                 beta =  5,    \n",
    "                 half_light_radius = 1,       # arcsec\n",
    "                 psf_e1=0, psf_e2=0,\n",
    "                 stamp_size = 50,   # pixels\n",
    "                 ):\n",
    "    gal = galsim.Exponential(flux=gal_flux, scale_radius=gal_r0)\n",
    "    gal = gal.shear(g1=g1, g2=g2)\n",
    "    gal_image = gal.drawImage(nx=stamp_size,ny=stamp_size, scale=pixel_scale, method='no_pixel')\n",
    "    \n",
    "    #plots\n",
    "    plt.figure(figsize = (15,5))\n",
    "    plt.subplot(131)\n",
    "    plt.imshow(gal_image.array)\n",
    "    plt.title('Galaxy')\n",
    "    plt.colorbar()\n",
    "    plt.subplot(132)\n",
    "    psf = galsim.Moffat(beta=beta, half_light_radius=half_light_radius)\n",
    "    psf = psf.shear(e1=psf_e1,e2=psf_e2)\n",
    "    psf_img = psf.drawImage(nx=stamp_size,ny=stamp_size, scale=pixel_scale, method='no_pixel')\n",
    "    plt.imshow(psf_img.array)\n",
    "    plt.title('PSF')\n",
    "    plt.colorbar()\n",
    "    plt.subplot(133)\n",
    "    gal_psf = galsim.Convolve([gal,psf]).drawImage(nx=stamp_size,ny=stamp_size, scale=pixel_scale, method='no_pixel').array\n",
    "    plt.imshow(gal_psf)\n",
    "    plt.title('Convolution: Galaxy * PSF')\n",
    "    plt.colorbar()"
   ]
  },
  {
   "cell_type": "code",
   "execution_count": 13,
   "id": "successful-craft",
   "metadata": {},
   "outputs": [
    {
     "data": {
      "application/vnd.jupyter.widget-view+json": {
       "model_id": "c5fa0f6dc1a94e57b7324053aa2e7dcf",
       "version_major": 2,
       "version_minor": 0
      },
      "text/plain": [
       "interactive(children=(FloatSlider(value=1000000.0, description='gal_flux', max=10000000.0), FloatSlider(value=…"
      ]
     },
     "metadata": {},
     "output_type": "display_data"
    },
    {
     "data": {
      "text/plain": [
       "<function __main__.SimpleGalaxyRoundPSF(gal_flux=1000000.0, gal_r0=1.0, g1=0, g2=0, pixel_scale=0.2, beta=5, half_light_radius=1, psf_e1=0, psf_e2=0, stamp_size=50)>"
      ]
     },
     "execution_count": 13,
     "metadata": {},
     "output_type": "execute_result"
    }
   ],
   "source": [
    "interact(SimpleGalaxyRoundPSF,gal_flux =(0, 1e7),    \n",
    "                      gal_r0 = (0.1,10),\n",
    "                      g1=(-0.9,.9,0.01),g2=(-0.9,0.9,0.01),\n",
    "                      pixel_scale = (0.1,5),  \n",
    "                      stamp_size = (10,100),\n",
    "                      beta =  (1.11,10),    \n",
    "                      half_light_radius = (1,10),\n",
    "                      psf_e1=(-0.9,.9,0.01),psf_e2=(-0.9,0.9,0.01))                     "
   ]
  },
  {
   "cell_type": "markdown",
   "id": "expressed-stake",
   "metadata": {},
   "source": [
    "## Advanced Galaxy Profiles"
   ]
  },
  {
   "cell_type": "markdown",
   "id": "representative-scope",
   "metadata": {},
   "source": [
    "### Bulge + Disk"
   ]
  },
  {
   "cell_type": "code",
   "execution_count": 14,
   "id": "completed-hypothesis",
   "metadata": {},
   "outputs": [],
   "source": [
    "def BulgeDiskGalaxy(bulge_n = 3.5,          # Bulge Sérsic index\n",
    "                    bulge_re = 2.3,         # arcsec\n",
    "                    disk_n = 1.5,           # Disk Sérsic Index\n",
    "                    disk_r0 = 0.85,         # arcsec (corresponds to half_light_radius of ~3.7 arcsec)\n",
    "                    bulge_frac = 0.3,       # Fraction \n",
    "                    gal_q = 0.73,           # (axis ratio 0 < q < 1)\n",
    "                    gal_beta = 0,          # degrees (position angle on the sky)\n",
    "                    stamp_size=50, pixel_scale=0.2):          \n",
    "    \n",
    "    gal_shape = galsim.Shear(q=gal_q, beta=gal_beta*galsim.degrees)    \n",
    "    \n",
    "    bulge = galsim.Sersic(bulge_n, half_light_radius=bulge_re)\n",
    "    bulge = bulge.shear(gal_shape)\n",
    "    bulge_image = bulge.drawImage(nx=stamp_size,ny=stamp_size, scale=pixel_scale, method='no_pixel')\n",
    "    \n",
    "    disk = galsim.Sersic(disk_n, scale_radius=disk_r0)\n",
    "    disk = disk.shear(gal_shape)\n",
    "    disk_image = disk.drawImage(nx=stamp_size,ny=stamp_size, scale=pixel_scale, method='no_pixel')\n",
    "    \n",
    "    gal = bulge_frac * bulge + (1-bulge_frac) * disk\n",
    "\n",
    "    \n",
    "    gal_image = gal.drawImage(nx=stamp_size,ny=stamp_size, scale=pixel_scale, method='no_pixel')\n",
    "   \n",
    "    \n",
    "    #plots\n",
    "    plt.figure(figsize = (15,5))\n",
    "    plt.subplot(131)\n",
    "    plt.imshow(bulge_image.array)\n",
    "    plt.title('Bulge')\n",
    "    plt.colorbar()\n",
    "    plt.subplot(132)\n",
    "    plt.imshow(disk_image.array)\n",
    "    plt.title('Disk')\n",
    "    plt.colorbar()\n",
    "    plt.subplot(133)\n",
    "    plt.imshow(gal_image.array)\n",
    "    plt.title('Galaxy')\n",
    "    plt.colorbar()"
   ]
  },
  {
   "cell_type": "code",
   "execution_count": 15,
   "id": "suspected-prayer",
   "metadata": {},
   "outputs": [
    {
     "data": {
      "application/vnd.jupyter.widget-view+json": {
       "model_id": "ce5bd67072ce4a9595b7fe3fc73be081",
       "version_major": 2,
       "version_minor": 0
      },
      "text/plain": [
       "interactive(children=(FloatSlider(value=3.5, description='bulge_n', max=6.2, min=3.0), FloatSlider(value=2.3, …"
      ]
     },
     "metadata": {},
     "output_type": "display_data"
    },
    {
     "data": {
      "text/plain": [
       "<function __main__.BulgeDiskGalaxy(bulge_n=3.5, bulge_re=2.3, disk_n=1.5, disk_r0=0.85, bulge_frac=0.3, gal_q=0.73, gal_beta=0, stamp_size=50, pixel_scale=0.2)>"
      ]
     },
     "execution_count": 15,
     "metadata": {},
     "output_type": "execute_result"
    }
   ],
   "source": [
    "interact(BulgeDiskGalaxy,bulge_n = (3,6.2),          # Bulge Sérsic index\n",
    "                    bulge_re =(0.1,10),         # arcsec\n",
    "                    disk_n = (0.3,3),           # Disk Sérsic Index\n",
    "                    disk_r0 = (0.1,10),         # arcsec (corresponds to half_light_radius of ~3.7 arcsec)\n",
    "                    bulge_frac = (0,1,0.01),       # Fraction \n",
    "                    gal_q = (0.01,0.99,0.01),           # (axis ratio 0 < q < 1)\n",
    "                    gal_beta = (0,360),          # degrees (position angle on the sky)\n",
    "                    stamp_size=50, pixel_scale=0.2)"
   ]
  },
  {
   "cell_type": "markdown",
   "id": "radio-impossible",
   "metadata": {},
   "source": [
    "## Galaxy and Realistic PSF"
   ]
  },
  {
   "cell_type": "code",
   "execution_count": 16,
   "id": "exempt-bench",
   "metadata": {},
   "outputs": [],
   "source": [
    "def GalSiX(  gal_flux = 1.e6,        # ADU  (\"Analog-to-digital units\", the units of the numbers on a CCD)\n",
    "            bulge_n = 3.5,          #\n",
    "            bulge_re = 2.3,         # arcsec\n",
    "            disk_n = 1.5,           #\n",
    "            disk_r0 = 0.85,         # arcsec (corresponds to half_light_radius of ~3.7 arcsec)\n",
    "            bulge_frac = 0.3,       #\n",
    "            gal_q = 0.73,           # (axis ratio 0 < q < 1)\n",
    "            gal_beta = 23,          # degrees (position angle on the sky)\n",
    "            atmos_fwhm=2.1,         # arcsec\n",
    "            atmos_e = 0.13,         #\n",
    "            atmos_beta = 0.81,      # radians\n",
    "            opt_defocus=0.53,       # wavelengths\n",
    "            opt_a1=-0.29,           # wavelengths\n",
    "            opt_a2=0.12,            # wavelengths\n",
    "            opt_c1=0.64,            # wavelengths\n",
    "            opt_c2=-0.33,           # wavelengths\n",
    "            opt_obscuration=0.3,    # linear scale size of secondary mirror obscuration\n",
    "            lam = 800,              # nm    NB: don't use lambda - that's a reserved word.\n",
    "            tel_diam = 4.,          # meters\n",
    "            pixel_scale = 0.23,     # arcsec / pixel\n",
    "            image_size = 64,        # n x n pixels\n",
    "            wcs_g1 = -0.02,         #\n",
    "            wcs_g2 = 0.01,          #\n",
    "            sky_level = 2.5e4,      # ADU / arcsec^2\n",
    "            gain = 1.7,             # e- / ADU\n",
    "                                   # Note: here we assume 1 photon -> 1 e-, ignoring QE.  If you wanted,\n",
    "                                   # you could include the QE factor as part of the gain.\n",
    "            read_noise = 0.3,       # e- / pixel\n",
    "\n",
    "           ):\n",
    "\n",
    "    # Initialize the (pseudo-)random number generator that we will be using below.\n",
    "    rng = galsim.BaseDeviate()\n",
    "\n",
    "    # Define the galaxy profile.\n",
    "    # Normally Sersic profiles are specified by half-light radius, the radius that\n",
    "    # encloses half of the total flux.  However, for some purposes, it can be\n",
    "    # preferable to instead specify the scale radius, where the surface brightness\n",
    "    # drops to 1/e of the central peak value.\n",
    "    bulge = galsim.Sersic(bulge_n, half_light_radius=bulge_re)\n",
    "    disk = galsim.Sersic(disk_n, scale_radius=disk_r0)\n",
    "\n",
    "    # Objects may be multiplied by a scalar (which means scaling the flux) and also\n",
    "    # added to each other.\n",
    "    gal = bulge_frac * bulge + (1-bulge_frac) * disk\n",
    "    # Could also have written the following, which does the same thing:\n",
    "    #   gal = galsim.Add([ bulge.withFlux(bulge_frac) , disk.withFlux(1-bulge_frac) ])\n",
    "    # Both syntaxes work with more than two summands as well.\n",
    "\n",
    "    # Set the overall flux of the combined object.\n",
    "    gal = gal.withFlux(gal_flux)\n",
    "    # Since the total flux of the components was 1, we could also have written:\n",
    "    #   gal *= gal_flux\n",
    "    # The withFlux method will always set the flux to the given value, while `gal *= flux`\n",
    "    # will multiply whatever the current flux is by the given factor.\n",
    "\n",
    "    # Set the shape of the galaxy according to axis ratio and position angle\n",
    "    # Note: All angles in GalSim must have explicit units.  Options are:\n",
    "    #       galsim.radians\n",
    "    #       galsim.degrees\n",
    "    #       galsim.arcmin\n",
    "    #       galsim.arcsec\n",
    "    #       galsim.hours\n",
    "    gal_shape = galsim.Shear(q=gal_q, beta=gal_beta*galsim.degrees)\n",
    "    gal = gal.shear(gal_shape)\n",
    "\n",
    "\n",
    "    # Define the atmospheric part of the PSF.\n",
    "    # Note: the flux here is the default flux=1.\n",
    "    atmos = galsim.Kolmogorov(fwhm=atmos_fwhm)\n",
    "    # For the PSF shape here, we use ellipticity rather than axis ratio.\n",
    "    # And the position angle can be either degrees or radians.  Here we chose radians.\n",
    "    atmos = atmos.shear(e=atmos_e, beta=atmos_beta*galsim.radians)\n",
    "\n",
    "\n",
    "    # Define the optical part of the PSF:\n",
    "    # The first argument of OpticalPSF below is lambda/diam (wavelength of light / telescope\n",
    "    # diameter), which needs to be in the same units used to specify the image scale.  We are using\n",
    "    # arcsec for that, so we have to self-consistently use arcsec here, using the following\n",
    "    # calculation:\n",
    "    lam_over_diam = lam * 1.e-9 / tel_diam # radians\n",
    "    lam_over_diam *= 206265  # arcsec\n",
    "    # Note that we could also have made GalSim do the conversion for us if we did not know the right\n",
    "    # factor:\n",
    "    # lam_over_diam = lam * 1.e-9 / tel_diam * galsim.radians\n",
    "    # lam_over_diam = lam_over_diam / galsim.arcsec\n",
    "\n",
    "    # The rest of the values should be given in units of the wavelength of the incident light.\n",
    "    optics = galsim.OpticalPSF(lam_over_diam,\n",
    "                               defocus = opt_defocus,\n",
    "                               coma1 = opt_c1, coma2 = opt_c2,\n",
    "                               astig1 = opt_a1, astig2 = opt_a2,\n",
    "                               obscuration = opt_obscuration)\n",
    "\n",
    "\n",
    "    # So far, our coordinate transformation between image and sky coordinates has been just a\n",
    "    # scaling of the units between pixels and arcsec, which we have defined as the \"pixel scale\".\n",
    "    # This is fine for many purposes, so we have made it easy to treat the coordinate systems\n",
    "    # this way via the `scale` parameter to commands like drawImage.  However, in general, the\n",
    "    # transformation between the two coordinate systems can be more complicated than that,\n",
    "    # including distortions, rotations, variation in pixel size, and so forth.  GalSim can\n",
    "    # model a number of different \"World Coordinate System\" (WCS) transformations.  See the\n",
    "    # docstring for BaseWCS for more information.\n",
    "\n",
    "    # In this case, we use a WCS that includes a distortion (specified as g1,g2 in this case),\n",
    "    # which we call a ShearWCS.\n",
    "    wcs = galsim.ShearWCS(scale=pixel_scale, shear=galsim.Shear(g1=wcs_g1, g2=wcs_g2))\n",
    "\n",
    "\n",
    "    # Next we will convolve the components in world coordinates.\n",
    "    psf = galsim.Convolve([atmos, optics])\n",
    "    final = galsim.Convolve([psf, gal])\n",
    "\n",
    "\n",
    "    # This time we specify a particular size for the image rather than let GalSim\n",
    "    # choose the size automatically.  GalSim has several kinds of images that it can use:\n",
    "    #   ImageF uses 32-bit floats    (like a C float, aka numpy.float32)\n",
    "    #   ImageD uses 64-bit floats    (like a C double, aka numpy.float64)\n",
    "    #   ImageS uses 16-bit integers  (usually like a C short, aka numpy.int16)\n",
    "    #   ImageI uses 32-bit integers  (usually like a C int, aka numpy.int32)\n",
    "    # If you let the GalSim drawImage command create the image for you, it will create an ImageF.\n",
    "    # However, you can make a different type if you prefer.  In this case, we still use\n",
    "    # ImageF, since 32-bit floats are fine.  We just want to set the size explicitly.\n",
    "    image = galsim.ImageF(image_size, image_size)\n",
    "    # Draw the image with the given WCS.  Note that we use wcs rather than scale when the\n",
    "    # WCS is more complicated than just a pixel scale.\n",
    "    final.drawImage(image=image, wcs=wcs)\n",
    "\n",
    "    # Also draw the effective PSF by itself and the optical PSF component alone.\n",
    "    image_epsf = galsim.ImageF(image_size, image_size)\n",
    "    psf.drawImage(image_epsf, wcs=wcs)\n",
    "\n",
    "    # We also draw the optical part of the PSF at its own Nyquist-sampled pixel size\n",
    "    # in order to better see the features of the (highly structured) profile.\n",
    "    # In this case, we draw a \"surface brightness image\" using method='sb'.  Rather than\n",
    "    # integrate the flux over the area of each pixel, this method just samples the surface\n",
    "    # brightness value at the locations of the pixel centers.  We will encounter a few other\n",
    "    # drawing methods as we go through this sequence of demos.  cf. demos 7, 8, 10, and 11.\n",
    "    image_opticalpsf = optics.drawImage(method='sb')\n",
    "\n",
    "    # This time, we use CCDNoise to model the real noise in a CCD image.  It takes a sky level,\n",
    "    # gain, and read noise, so it can be a bit more realistic than the simpler GaussianNoise\n",
    "    # or PoissonNoise that we used in demos 1 and 2.\n",
    "\n",
    "    # The sky level for CCDNoise is the level per pixel that contributed to the noise.\n",
    "    sky_level_pixel = sky_level * pixel_scale**2\n",
    "\n",
    "    # The gain is in units of e-/ADU.  Technically, one should also account for quantum efficiency\n",
    "    # (QE) of the detector. An ideal CCD has one electron per incident photon, but real CCDs have\n",
    "    # QE less than 1, so not every photon triggers an electron.  We are essentially folding\n",
    "    # the quantum efficiency (and filter transmission and anything else like that) into the gain.\n",
    "    # The read_noise value is given as e-/pixel.  This is modeled as a pure Gaussian noise\n",
    "    # added to the image after applying the pure Poisson noise.\n",
    "    noise = galsim.CCDNoise(rng, gain=gain, read_noise=read_noise, sky_level=sky_level_pixel)\n",
    "    image.addNoise(noise)\n",
    "    plt.imshow(image.array)\n",
    "\n",
    "\n"
   ]
  },
  {
   "cell_type": "code",
   "execution_count": 17,
   "id": "virgin-niagara",
   "metadata": {},
   "outputs": [
    {
     "data": {
      "application/vnd.jupyter.widget-view+json": {
       "model_id": "334c211c7bb341abb08cfb095e2ba4f3",
       "version_major": 2,
       "version_minor": 0
      },
      "text/plain": [
       "interactive(children=(FloatSlider(value=1000000.0, description='gal_flux', max=10000000.0, min=1.0), FloatSlid…"
      ]
     },
     "metadata": {},
     "output_type": "display_data"
    },
    {
     "data": {
      "text/plain": [
       "<function __main__.GalSiX(gal_flux=1000000.0, bulge_n=3.5, bulge_re=2.3, disk_n=1.5, disk_r0=0.85, bulge_frac=0.3, gal_q=0.73, gal_beta=23, atmos_fwhm=2.1, atmos_e=0.13, atmos_beta=0.81, opt_defocus=0.53, opt_a1=-0.29, opt_a2=0.12, opt_c1=0.64, opt_c2=-0.33, opt_obscuration=0.3, lam=800, tel_diam=4.0, pixel_scale=0.23, image_size=64, wcs_g1=-0.02, wcs_g2=0.01, sky_level=25000.0, gain=1.7, read_noise=0.3)>"
      ]
     },
     "execution_count": 17,
     "metadata": {},
     "output_type": "execute_result"
    }
   ],
   "source": [
    "interact(GalSiX, gal_flux = (1,1.e7),        # ADU  (\"Analog-to-digital units\", the units of the numbers on a CCD)\n",
    "            bulge_n = (3,6,.1),          #\n",
    "            bulge_re = (.1,10),         # arcsec\n",
    "            disk_n = (0.3,3,.1),           #\n",
    "            disk_r0 = (0.1,10,.01),         # arcsec \n",
    "            bulge_frac = (0.,1,.01),       #\n",
    "            gal_q = (0.01,1,.01),           # (axis ratio 0 < q < 1)\n",
    "            gal_beta = (0,360),          # degrees (position angle on the sky)\n",
    "            atmos_fwhm=(0.5,10,0.01),         # arcsec\n",
    "            atmos_e = (0.01,0.8,0.01),         #\n",
    "            atmos_beta = (0,2*np.pi),      # radians\n",
    "            opt_defocus=(0,10),       # wavelengths\n",
    "            opt_a1=(-1,1,0.01),           # wavelengths\n",
    "            opt_a2=(-1,1,0.01),            # wavelengths\n",
    "            opt_c1=(-1,1,0.01),            # wavelengths\n",
    "            opt_c2=(-1,1,0.01),           # wavelengths\n",
    "            opt_obscuration=0.3,    # linear scale size of secondary mirror obscuration\n",
    "            lam = (350,1000),              # nm    NB: don't use lambda - that's a reserved word.\n",
    "            tel_diam = (0.01,10,0.01),          # meters\n",
    "            pixel_scale = (0.1,10),     # arcsec / pixel\n",
    "            image_size = 64,        # n x n pixels\n",
    "            wcs_g1 = (-.5,.5),         #\n",
    "            wcs_g2 = (-.5,.5),          #\n",
    "            sky_level = (1,1e5),      # ADU / arcsec^2\n",
    "            gain = (0.1,1,0.01),             # e- / ADU\n",
    "                                   # Note: here we assume 1 photon -> 1 e-, ignoring QE.  If you wanted,\n",
    "                                   # you could include the QE factor as part of the gain.\n",
    "            read_noise = (0.01,1,0.01))       # e- / pixel"
   ]
  },
  {
   "cell_type": "code",
   "execution_count": null,
   "id": "controversial-ownership",
   "metadata": {},
   "outputs": [],
   "source": []
  }
 ],
 "metadata": {
  "kernelspec": {
   "display_name": "Python 3",
   "language": "python",
   "name": "python3"
  },
  "language_info": {
   "codemirror_mode": {
    "name": "ipython",
    "version": 3
   },
   "file_extension": ".py",
   "mimetype": "text/x-python",
   "name": "python",
   "nbconvert_exporter": "python",
   "pygments_lexer": "ipython3",
   "version": "3.8.6"
  }
 },
 "nbformat": 4,
 "nbformat_minor": 5
}
